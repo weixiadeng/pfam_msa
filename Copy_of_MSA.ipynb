{
  "nbformat": 4,
  "nbformat_minor": 0,
  "metadata": {
    "colab": {
      "provenance": [],
      "authorship_tag": "ABX9TyPjdiB4448S3ATcNnO/CYo2",
      "include_colab_link": true
    },
    "kernelspec": {
      "name": "python3",
      "display_name": "Python 3"
    },
    "language_info": {
      "name": "python"
    }
  },
  "cells": [
    {
      "cell_type": "markdown",
      "metadata": {
        "id": "view-in-github",
        "colab_type": "text"
      },
      "source": [
        "<a href=\"https://colab.research.google.com/github/weixiadeng/pfam_msa/blob/main/Copy_of_MSA.ipynb\" target=\"_parent\"><img src=\"https://colab.research.google.com/assets/colab-badge.svg\" alt=\"Open In Colab\"/></a>"
      ]
    },
    {
      "cell_type": "code",
      "source": [
        "pip install biopython"
      ],
      "metadata": {
        "colab": {
          "base_uri": "https://localhost:8080/"
        },
        "id": "ywHmtl9BVOT3",
        "outputId": "af1bf814-30bb-4b15-ba10-3b697551b2d0"
      },
      "execution_count": 1,
      "outputs": [
        {
          "output_type": "stream",
          "name": "stdout",
          "text": [
            "Looking in indexes: https://pypi.org/simple, https://us-python.pkg.dev/colab-wheels/public/simple/\n",
            "Collecting biopython\n",
            "  Downloading biopython-1.81-cp310-cp310-manylinux_2_17_x86_64.manylinux2014_x86_64.whl (3.1 MB)\n",
            "\u001b[2K     \u001b[90m━━━━━━━━━━━━━━━━━━━━━━━━━━━━━━━━━━━━━━━━\u001b[0m \u001b[32m3.1/3.1 MB\u001b[0m \u001b[31m28.4 MB/s\u001b[0m eta \u001b[36m0:00:00\u001b[0m\n",
            "\u001b[?25hRequirement already satisfied: numpy in /usr/local/lib/python3.10/dist-packages (from biopython) (1.22.4)\n",
            "Installing collected packages: biopython\n",
            "Successfully installed biopython-1.81\n"
          ]
        }
      ]
    },
    {
      "cell_type": "code",
      "source": [
        "pip install scipy"
      ],
      "metadata": {
        "id": "Q8-FRZwFHqbi",
        "outputId": "e8a67c59-87da-4bb0-a015-73e39128d1a6",
        "colab": {
          "base_uri": "https://localhost:8080/"
        }
      },
      "execution_count": 2,
      "outputs": [
        {
          "output_type": "stream",
          "name": "stdout",
          "text": [
            "Looking in indexes: https://pypi.org/simple, https://us-python.pkg.dev/colab-wheels/public/simple/\n",
            "Requirement already satisfied: scipy in /usr/local/lib/python3.10/dist-packages (1.10.1)\n",
            "Requirement already satisfied: numpy<1.27.0,>=1.19.5 in /usr/local/lib/python3.10/dist-packages (from scipy) (1.22.4)\n"
          ]
        }
      ]
    },
    {
      "cell_type": "code",
      "source": [
        "from Bio import SeqIO\n",
        "from Bio.Seq import Seq\n",
        "import scipy\n",
        "import numpy as np\n",
        "import requests\n",
        "from io import StringIO\n",
        "from itertools import permutations\n",
        "import pandas as pd\n",
        "import json\n",
        "import copy"
      ],
      "metadata": {
        "id": "R9YRkKDnVTQh"
      },
      "execution_count": 121,
      "outputs": []
    },
    {
      "cell_type": "code",
      "source": [
        "from google.colab import drive\n",
        "drive.mount('/content/gdrive')"
      ],
      "metadata": {
        "colab": {
          "base_uri": "https://localhost:8080/"
        },
        "id": "MKSe6lxOaU2V",
        "outputId": "f160198a-1f77-4711-f712-c35d56192263"
      },
      "execution_count": 55,
      "outputs": [
        {
          "output_type": "stream",
          "name": "stdout",
          "text": [
            "Mounted at /content/gdrive\n"
          ]
        }
      ]
    },
    {
      "cell_type": "code",
      "source": [
        "# Read the fasta file from GitHub url\n",
        "fa_url = \"https://raw.githubusercontent.com/weixiadeng/pfam_msa/main/PF00712.fa\"\n",
        "fa_txt = StringIO(requests.get(fa_url).text)\n",
        "# Convert the MSA to array, convert the gap to \"-\", all letter to uppercase\n",
        "sequence_data_list = list(SeqIO.parse(fa_txt, \"fasta\"))\n",
        "sequence_array = np.char.replace(np.char.upper(np.array(sequence_data_list)), \".\", \"-\")"
      ],
      "metadata": {
        "id": "u7LFsh1E87Sv"
      },
      "execution_count": 4,
      "outputs": []
    },
    {
      "cell_type": "code",
      "source": [
        "# Compute H(a) for each column of MSA\n",
        "sequence_array_size = sequence_array.shape\n",
        "column_index_a = range(sequence_array_size[1])\n",
        "entropy_a = dict()\n",
        "for column_a in column_index_a:\n",
        "    sequence_array_count = np.unique(sequence_array[:,column_a], return_counts = True)\n",
        "    sequence_array_freq = sequence_array_count[1] / sequence_array_size[0]\n",
        "    column_entropy = scipy.stats.entropy(sequence_array_freq)\n",
        "    entropy_a[column_a] = column_entropy"
      ],
      "metadata": {
        "id": "6qRg3cPU_6eN"
      },
      "execution_count": 54,
      "outputs": []
    },
    {
      "cell_type": "code",
      "source": [
        "# Compute H(a, b) for each of two-column pair of MSA\n",
        "column_index_a_b = list(permutations(range(sequence_array_size[1]), 2))\n",
        "entropy_a_b = dict()\n",
        "for column_a_b in column_index_a_b:\n",
        "    sequence_array_count = np.unique(sequence_array[:,column_a_b],\n",
        "                                     axis = 0, return_counts = True)\n",
        "    sequence_array_freq = sequence_array_count[1] / sequence_array_size[0]\n",
        "    column_entropy = scipy.stats.entropy(sequence_array_freq)\n",
        "    entropy_a_b[column_a_b] = column_entropy"
      ],
      "metadata": {
        "id": "hE-w9B6jP1Kq"
      },
      "execution_count": 52,
      "outputs": []
    },
    {
      "cell_type": "code",
      "source": [
        "# Compute MI(a,b) = H(a) + H(b) - H(a, b)\n",
        "MI_a_b = dict()\n",
        "for column_a_b in column_index_a_b:\n",
        "    MI_a_b[column_a_b] = entropy_a[column_a_b[0]] + entropy_a[column_a_b[1]] - entropy_a_b[column_a_b]"
      ],
      "metadata": {
        "id": "CimuBls_icUG"
      },
      "execution_count": 119,
      "outputs": []
    },
    {
      "cell_type": "code",
      "source": [
        "x_a = json.dumps(entropy_a, indent = 4)\n",
        "y_a = x_a.encode('utf-8')\n",
        "with open(\"/content/gdrive/My Drive/pfam_data/entropy_a.json\", \"w\") as f:\n",
        "    f.write(str(y_a))"
      ],
      "metadata": {
        "id": "CTsnhjNJa5qI"
      },
      "execution_count": 90,
      "outputs": []
    },
    {
      "cell_type": "code",
      "source": [
        "dicts = copy.copy(entropy_a_b)\n",
        "new_dct = {}\n",
        "for k,v in dicts.items():\n",
        "    new_dct[','.join(map(str, k))] = v\n",
        "\n",
        "x_ab = json.dumps(new_dct, indent = 4)\n",
        "y_ab = x_ab.encode('utf-8')\n",
        "with open(\"/content/gdrive/My Drive/pfam_data/entropy_a_b.json\", \"w\") as f:\n",
        "    f.write(str(y_ab))"
      ],
      "metadata": {
        "id": "wnkRclAQbTIy"
      },
      "execution_count": 91,
      "outputs": []
    },
    {
      "cell_type": "code",
      "source": [
        "dicts = copy.copy(MI_a_b)\n",
        "new_dct = {}\n",
        "for k,v in dicts.items():\n",
        "    new_dct[','.join(map(str, k))] = v\n",
        "\n",
        "x_ab = json.dumps(new_dct, indent = 4)\n",
        "y_ab = x_ab.encode('utf-8')\n",
        "with open(\"/content/gdrive/My Drive/pfam_data/MI_a_b.json\", \"w\") as f:\n",
        "    f.write(str(y_ab))"
      ],
      "metadata": {
        "id": "pxmJSXtgiE0K"
      },
      "execution_count": 120,
      "outputs": []
    },
    {
      "cell_type": "code",
      "source": [
        "MI_a_b_df = pd.DataFrame.from_dict(MI_a_b, orient = \"index\")\n",
        "MI_a_b_df.reset_index(inplace = True)\n",
        "with open(\"/content/gdrive/My Drive/pfam_data/MI_a_b.csv\", \"w\") as f:\n",
        "    MI_a_b_df.to_csv(f)"
      ],
      "metadata": {
        "id": "5mDOiuo_nZvj"
      },
      "execution_count": 140,
      "outputs": []
    }
  ]
}