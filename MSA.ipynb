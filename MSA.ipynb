{
  "nbformat": 4,
  "nbformat_minor": 0,
  "metadata": {
    "colab": {
      "provenance": [],
      "authorship_tag": "ABX9TyN2vNdBbxV7FTnOzKI36JiM",
      "include_colab_link": true
    },
    "kernelspec": {
      "name": "python3",
      "display_name": "Python 3"
    },
    "language_info": {
      "name": "python"
    }
  },
  "cells": [
    {
      "cell_type": "markdown",
      "metadata": {
        "id": "view-in-github",
        "colab_type": "text"
      },
      "source": [
        "<a href=\"https://colab.research.google.com/github/weixiadeng/pfam_msa/blob/main/MSA.ipynb\" target=\"_parent\"><img src=\"https://colab.research.google.com/assets/colab-badge.svg\" alt=\"Open In Colab\"/></a>"
      ]
    },
    {
      "cell_type": "code",
      "source": [
        "pip install biopython"
      ],
      "metadata": {
        "colab": {
          "base_uri": "https://localhost:8080/"
        },
        "id": "ywHmtl9BVOT3",
        "outputId": "b8c600e2-6d4b-4675-86b9-3e97d660c5f1"
      },
      "execution_count": 77,
      "outputs": [
        {
          "output_type": "stream",
          "name": "stdout",
          "text": [
            "Looking in indexes: https://pypi.org/simple, https://us-python.pkg.dev/colab-wheels/public/simple/\n",
            "Requirement already satisfied: biopython in /usr/local/lib/python3.10/dist-packages (1.81)\n",
            "Requirement already satisfied: numpy in /usr/local/lib/python3.10/dist-packages (from biopython) (1.22.4)\n"
          ]
        }
      ]
    },
    {
      "cell_type": "code",
      "source": [
        "pip install scipy"
      ],
      "metadata": {
        "id": "Q8-FRZwFHqbi",
        "outputId": "153924f7-872c-48d2-93c2-85d785becddf",
        "colab": {
          "base_uri": "https://localhost:8080/"
        }
      },
      "execution_count": null,
      "outputs": [
        {
          "output_type": "stream",
          "name": "stdout",
          "text": [
            "Looking in indexes: https://pypi.org/simple, https://us-python.pkg.dev/colab-wheels/public/simple/\n",
            "Requirement already satisfied: scipy in /usr/local/lib/python3.10/dist-packages (1.10.1)\n",
            "Requirement already satisfied: numpy<1.27.0,>=1.19.5 in /usr/local/lib/python3.10/dist-packages (from scipy) (1.22.4)\n"
          ]
        }
      ]
    },
    {
      "cell_type": "code",
      "source": [
        "from Bio import SeqIO\n",
        "from Bio.Seq import Seq\n",
        "from Bio.Data import CodonTable\n",
        "from Bio.SeqUtils.ProtParam import ProteinAnalysis\n",
        "import scipy\n",
        "import pandas as pd\n",
        "import numpy as np\n",
        "import matplotlib.pyplot as plt\n",
        "import requests\n",
        "from io import StringIO"
      ],
      "metadata": {
        "id": "R9YRkKDnVTQh"
      },
      "execution_count": null,
      "outputs": []
    },
    {
      "cell_type": "code",
      "execution_count": 106,
      "metadata": {
        "id": "M39pA0uAcBYE"
      },
      "outputs": [],
      "source": [
        "fa_url = \"https://raw.githubusercontent.com/weixiadeng/pfam_msa/main/PF00712.fa\"\n",
        "fa_txt = StringIO(requests.get(fa_url).text)\n",
        "sequence_data = SeqIO.parse(fa_txt, \"fasta\")\n",
        "sequence_data_list = list()\n",
        "for seq_record in sequence_data:\n",
        "    sequence_data_list.append(seq_record.seq)\n",
        "sequence_array = np.array(sequence_data_list)"
      ]
    },
    {
      "cell_type": "code",
      "source": [
        "np.unique(sequence_array[:,1], return_counts = True)"
      ],
      "metadata": {
        "id": "-vcRU9hEGn5b",
        "outputId": "b634230f-50ec-4913-8cc7-30d5a702f92f",
        "colab": {
          "base_uri": "https://localhost:8080/"
        }
      },
      "execution_count": 108,
      "outputs": [
        {
          "output_type": "execute_result",
          "data": {
            "text/plain": [
              "(array(['.', 'f'], dtype='<U1'), array([8258,    1]))"
            ]
          },
          "metadata": {},
          "execution_count": 108
        }
      ]
    }
  ]
}